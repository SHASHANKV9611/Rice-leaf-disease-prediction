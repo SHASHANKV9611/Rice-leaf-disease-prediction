{
  "nbformat": 4,
  "nbformat_minor": 0,
  "metadata": {
    "colab": {
      "provenance": [],
      "include_colab_link": true
    },
    "kernelspec": {
      "name": "python3",
      "display_name": "Python 3"
    },
    "language_info": {
      "name": "python"
    }
  },
  "cells": [
    {
      "cell_type": "markdown",
      "metadata": {
        "id": "view-in-github",
        "colab_type": "text"
      },
      "source": [
        "<a href=\"https://colab.research.google.com/github/SHASHANKV9611/Rice-leaf-disease-prediction/blob/main/Rice_leaf_disease_prediction_.ipynb\" target=\"_parent\"><img src=\"https://colab.research.google.com/assets/colab-badge.svg\" alt=\"Open In Colab\"/></a>"
      ]
    },
    {
      "cell_type": "code",
      "source": [
        "from google.colab import drive\n",
        "drive.mount('/content/drive')"
      ],
      "metadata": {
        "colab": {
          "base_uri": "https://localhost:8080/"
        },
        "id": "l2bLVYSW9l6u",
        "outputId": "cf73cd3b-82cd-4dcc-c1a9-0b0f22bcabed"
      },
      "execution_count": 1,
      "outputs": [
        {
          "output_type": "stream",
          "name": "stdout",
          "text": [
            "Mounted at /content/drive\n"
          ]
        }
      ]
    },
    {
      "cell_type": "code",
      "execution_count": 2,
      "metadata": {
        "id": "OMXskTIOWWmY"
      },
      "outputs": [],
      "source": [
        "import matplotlib.pyplot as plt\n",
        "import seaborn as sns\n",
        "\n",
        "import keras\n",
        "from keras.models import Sequential\n",
        "from keras.layers import Dense, Conv2D , MaxPool2D , Flatten , Dropout \n",
        "from tensorflow.keras.preprocessing import image,image_dataset_from_directory\n",
        "from keras.preprocessing.image import ImageDataGenerator\n",
        "from keras.optimizers import Adam\n",
        "from tensorflow.keras.layers import Dense, Dropout, Activation, Flatten, Conv2D, MaxPooling2D\n",
        "from tensorflow.keras.utils import to_categorical\n",
        "\n",
        "from sklearn.metrics import classification_report,confusion_matrix\n",
        "\n",
        "import tensorflow as tf\n",
        "\n",
        "import cv2\n",
        "import os\n",
        "\n",
        "import numpy as np"
      ]
    },
    {
      "cell_type": "code",
      "source": [
        "labels = ['Bacterial leaf blight', 'Brown spot','Leaf smut']\n",
        "img_size = 200\n",
        "def get_data(data_dir):\n",
        "    data = [] \n",
        "    for label in labels: \n",
        "        path = os.path.join(data_dir, label)\n",
        "        class_num = labels.index(label)\n",
        "        for img in os.listdir(path):\n",
        "            try:\n",
        "                img_arr = cv2.imread(os.path.join(path, img))[...,::-1] #convert BGR to RGB format\n",
        "                resized_arr = cv2.resize(img_arr, (img_size, img_size)) # Reshaping images to preferred size\n",
        "                data.append([resized_arr, class_num])\n",
        "            except Exception as e:\n",
        "                print(e)\n",
        "    return np.array(data)"
      ],
      "metadata": {
        "id": "AmtumOBVXnRi"
      },
      "execution_count": 3,
      "outputs": []
    },
    {
      "cell_type": "code",
      "source": [
        "train=get_data('/content/drive/MyDrive/Internship/Rice Leaf/Data1/train')\n",
        "val=get_data('/content/drive/MyDrive/Internship/Rice Leaf/Data1/test')"
      ],
      "metadata": {
        "colab": {
          "base_uri": "https://localhost:8080/"
        },
        "id": "zX7yJWU6YJcE",
        "outputId": "1b101ed2-ea6a-411f-a259-78aab55de7f1"
      },
      "execution_count": 4,
      "outputs": [
        {
          "output_type": "stream",
          "name": "stderr",
          "text": [
            "<ipython-input-3-a8fe0af2589f>:15: VisibleDeprecationWarning: Creating an ndarray from ragged nested sequences (which is a list-or-tuple of lists-or-tuples-or ndarrays with different lengths or shapes) is deprecated. If you meant to do this, you must specify 'dtype=object' when creating the ndarray.\n",
            "  return np.array(data)\n"
          ]
        }
      ]
    },
    {
      "cell_type": "code",
      "source": [],
      "metadata": {
        "id": "SzrA4rhjptl0"
      },
      "execution_count": 4,
      "outputs": []
    },
    {
      "cell_type": "code",
      "source": [
        "x_train = []\n",
        "y_train = []\n",
        "x_val = []\n",
        "y_val = []\n",
        "\n",
        "for feature, label in train:\n",
        "  x_train.append(feature)\n",
        "  y_train.append(label)\n",
        "\n",
        "for feature, label in val:\n",
        "  x_val.append(feature)\n",
        "  y_val.append(label)\n",
        "\n",
        "# Normalize the data\n",
        "x_train = np.array(x_train) / 255\n",
        "x_val = np.array(x_val) / 255\n",
        "\n",
        "x_train.reshape(-1, img_size, img_size, 1)\n",
        "y_train = np.array(y_train)\n",
        "\n",
        "x_val.reshape(-1, img_size, img_size, 1)\n",
        "y_val = np.array(y_val)"
      ],
      "metadata": {
        "id": "qF6RKfccYxVC"
      },
      "execution_count": 5,
      "outputs": []
    },
    {
      "cell_type": "code",
      "source": [
        "x_train.shape"
      ],
      "metadata": {
        "colab": {
          "base_uri": "https://localhost:8080/"
        },
        "id": "Diu8-jVKqljD",
        "outputId": "10b6d835-f587-42db-a31e-2ac1afec28ce"
      },
      "execution_count": 6,
      "outputs": [
        {
          "output_type": "execute_result",
          "data": {
            "text/plain": [
              "(114, 200, 200, 3)"
            ]
          },
          "metadata": {},
          "execution_count": 6
        }
      ]
    },
    {
      "cell_type": "code",
      "source": [
        "y_train = to_categorical(y_train)\n",
        "y_train.shape"
      ],
      "metadata": {
        "colab": {
          "base_uri": "https://localhost:8080/"
        },
        "id": "rjrVgOFstRic",
        "outputId": "9c8448b1-7f4c-4174-d4d7-4318d9918728"
      },
      "execution_count": 7,
      "outputs": [
        {
          "output_type": "execute_result",
          "data": {
            "text/plain": [
              "(114, 3)"
            ]
          },
          "metadata": {},
          "execution_count": 7
        }
      ]
    },
    {
      "cell_type": "code",
      "source": [
        "y_val=to_categorical(y_val)\n",
        "y_val.shape"
      ],
      "metadata": {
        "colab": {
          "base_uri": "https://localhost:8080/"
        },
        "id": "0eZ9IuhQt8Aq",
        "outputId": "ca4d3c29-6ac8-4611-b021-e2b24830080b"
      },
      "execution_count": 8,
      "outputs": [
        {
          "output_type": "execute_result",
          "data": {
            "text/plain": [
              "(5, 3)"
            ]
          },
          "metadata": {},
          "execution_count": 8
        }
      ]
    },
    {
      "cell_type": "code",
      "source": [
        "datagen = ImageDataGenerator(\n",
        "        featurewise_center=False,  # set input mean to 0 over the dataset\n",
        "        samplewise_center=False,  # set each sample mean to 0\n",
        "        featurewise_std_normalization=False,  # divide inputs by std of the dataset\n",
        "        samplewise_std_normalization=False,  # divide each input by its std\n",
        "        zca_whitening=False,  # apply ZCA whitening\n",
        "        rotation_range = 30,  # randomly rotate images in the range (degrees, 0 to 180)\n",
        "        zoom_range = 0.2, # Randomly zoom image \n",
        "        width_shift_range=0.1,  # randomly shift images horizontally (fraction of total width)\n",
        "        height_shift_range=0.1,  # randomly shift images vertically (fraction of total height)\n",
        "        horizontal_flip = True,  # randomly flip images\n",
        "        vertical_flip=False)  # randomly flip images\n",
        "\n",
        "\n",
        "datagen.fit(x_train)\n"
      ],
      "metadata": {
        "id": "L_ekprZzcgja"
      },
      "execution_count": 9,
      "outputs": []
    },
    {
      "cell_type": "code",
      "source": [
        "#Initialize the model\n",
        "model =Sequential()\n",
        "\n",
        "# the shape of the data is (300,300,3) but use X.shape[1:] to get this value dynamically\n",
        "model.add(Conv2D(32,kernel_size=(3, 3),input_shape=(200,200,3),activation='relu'))\n",
        "model.add(MaxPooling2D(pool_size=(2,2)))  #pool_size the window size over which to take the maximum,\n",
        "\n",
        "model.add(Conv2D(64,kernel_size=(3, 3),activation='relu'))\n",
        "model.add(MaxPooling2D(pool_size=(2,2))) \n",
        "\n",
        "model.add(Conv2D(64,(3,3),activation='relu'))\n",
        "model.add(MaxPooling2D((2,2)))\n",
        "\n",
        "model.add(Flatten())\n",
        "model.add(Dense(64,activation='relu'))\n",
        "\n",
        "model.add(Dense(3,activation='softmax'))"
      ],
      "metadata": {
        "id": "oF6besmGcnVo"
      },
      "execution_count": 10,
      "outputs": []
    },
    {
      "cell_type": "code",
      "source": [
        "model.summary()"
      ],
      "metadata": {
        "colab": {
          "base_uri": "https://localhost:8080/"
        },
        "id": "vvfjWmz8rUPD",
        "outputId": "a6e853b7-9ef3-4751-b971-3d228d048240"
      },
      "execution_count": 11,
      "outputs": [
        {
          "output_type": "stream",
          "name": "stdout",
          "text": [
            "Model: \"sequential\"\n",
            "_________________________________________________________________\n",
            " Layer (type)                Output Shape              Param #   \n",
            "=================================================================\n",
            " conv2d (Conv2D)             (None, 198, 198, 32)      896       \n",
            "                                                                 \n",
            " max_pooling2d (MaxPooling2D  (None, 99, 99, 32)       0         \n",
            " )                                                               \n",
            "                                                                 \n",
            " conv2d_1 (Conv2D)           (None, 97, 97, 64)        18496     \n",
            "                                                                 \n",
            " max_pooling2d_1 (MaxPooling  (None, 48, 48, 64)       0         \n",
            " 2D)                                                             \n",
            "                                                                 \n",
            " conv2d_2 (Conv2D)           (None, 46, 46, 64)        36928     \n",
            "                                                                 \n",
            " max_pooling2d_2 (MaxPooling  (None, 23, 23, 64)       0         \n",
            " 2D)                                                             \n",
            "                                                                 \n",
            " flatten (Flatten)           (None, 33856)             0         \n",
            "                                                                 \n",
            " dense (Dense)               (None, 64)                2166848   \n",
            "                                                                 \n",
            " dense_1 (Dense)             (None, 3)                 195       \n",
            "                                                                 \n",
            "=================================================================\n",
            "Total params: 2,223,363\n",
            "Trainable params: 2,223,363\n",
            "Non-trainable params: 0\n",
            "_________________________________________________________________\n"
          ]
        }
      ]
    },
    {
      "cell_type": "code",
      "source": [
        "opt = Adam(learning_rate=0.000001)\n",
        "model.compile(optimizer = opt , loss = tf.keras.losses.SparseCategoricalCrossentropy(from_logits=True) , metrics = ['accuracy'])"
      ],
      "metadata": {
        "id": "JRbdDbOvcu98"
      },
      "execution_count": 12,
      "outputs": []
    },
    {
      "cell_type": "code",
      "source": [
        "class CustomCallBack(tf.keras.callbacks.Callback):\n",
        "    def on_epoch_end(self,epoch,logs=None):\n",
        "        if logs.get('val_accuracy')>=0.80:\n",
        "            self.model.stop_training = True\n",
        "\n",
        "stop_early = CustomCallBack()"
      ],
      "metadata": {
        "id": "OkrIje7zx104"
      },
      "execution_count": 13,
      "outputs": []
    },
    {
      "cell_type": "code",
      "source": [
        "model.compile(loss=tf.keras.losses.categorical_crossentropy,\n",
        "              optimizer ='adam',\n",
        "              metrics =['accuracy'])\n",
        "\n",
        "history = model.fit(x_train,y_train,steps_per_epoch=4, epochs=50,validation_data=(x_val,y_val),callbacks=[stop_early])"
      ],
      "metadata": {
        "colab": {
          "base_uri": "https://localhost:8080/"
        },
        "id": "kNuNad8PrUB1",
        "outputId": "84c337e7-31c1-47d6-fdab-08aa0cfc0e1a"
      },
      "execution_count": 14,
      "outputs": [
        {
          "output_type": "stream",
          "name": "stdout",
          "text": [
            "Epoch 1/50\n",
            "4/4 [==============================] - 9s 2s/step - loss: 1.4553 - accuracy: 0.3509 - val_loss: 1.1214 - val_accuracy: 0.4000\n",
            "Epoch 2/50\n",
            "4/4 [==============================] - 9s 2s/step - loss: 1.1048 - accuracy: 0.3158 - val_loss: 1.0782 - val_accuracy: 0.4000\n",
            "Epoch 3/50\n",
            "4/4 [==============================] - 9s 3s/step - loss: 1.0915 - accuracy: 0.3158 - val_loss: 1.0901 - val_accuracy: 0.6000\n",
            "Epoch 4/50\n",
            "4/4 [==============================] - 7s 2s/step - loss: 1.0137 - accuracy: 0.5526 - val_loss: 1.0789 - val_accuracy: 0.4000\n",
            "Epoch 5/50\n",
            "4/4 [==============================] - 9s 3s/step - loss: 0.9450 - accuracy: 0.5614 - val_loss: 1.0230 - val_accuracy: 0.2000\n",
            "Epoch 6/50\n",
            "4/4 [==============================] - 7s 2s/step - loss: 0.8786 - accuracy: 0.5614 - val_loss: 1.1176 - val_accuracy: 0.6000\n",
            "Epoch 7/50\n",
            "4/4 [==============================] - 9s 2s/step - loss: 0.8215 - accuracy: 0.6491 - val_loss: 0.8108 - val_accuracy: 0.6000\n",
            "Epoch 8/50\n",
            "4/4 [==============================] - 9s 2s/step - loss: 0.6658 - accuracy: 0.7105 - val_loss: 0.7231 - val_accuracy: 0.6000\n",
            "Epoch 9/50\n",
            "4/4 [==============================] - 8s 2s/step - loss: 0.5605 - accuracy: 0.7895 - val_loss: 0.6212 - val_accuracy: 0.6000\n",
            "Epoch 10/50\n",
            "4/4 [==============================] - 9s 3s/step - loss: 0.4731 - accuracy: 0.7895 - val_loss: 0.5947 - val_accuracy: 0.6000\n",
            "Epoch 11/50\n",
            "4/4 [==============================] - 7s 2s/step - loss: 0.3924 - accuracy: 0.8596 - val_loss: 0.4098 - val_accuracy: 1.0000\n"
          ]
        }
      ]
    },
    {
      "cell_type": "code",
      "source": [
        "acc = history.history['accuracy']\n",
        "val_acc = history.history['val_accuracy']\n",
        "loss = history.history['loss']\n",
        "val_loss = history.history['val_loss']\n",
        "\n",
        "epochs_range = range(11)\n",
        "\n",
        "plt.figure(figsize=(15, 15))\n",
        "plt.subplot(2, 2, 1)\n",
        "plt.plot(epochs_range, acc, label='Training Accuracy')\n",
        "plt.plot(epochs_range, val_acc, label='Validation Accuracy')\n",
        "plt.legend(loc='lower right')\n",
        "plt.title('Training and Validation Accuracy')\n",
        "\n",
        "plt.subplot(2, 2, 2)\n",
        "plt.plot(epochs_range, loss, label='Training Loss')\n",
        "plt.plot(epochs_range, val_loss, label='Validation Loss')\n",
        "plt.legend(loc='upper right')\n",
        "plt.title('Training and Validation Loss')\n",
        "plt.show()"
      ],
      "metadata": {
        "colab": {
          "base_uri": "https://localhost:8080/",
          "height": 435
        },
        "id": "NPscD9QMdEYp",
        "outputId": "c92131bf-eb04-4b46-f742-4c9614b4483a"
      },
      "execution_count": 16,
      "outputs": [
        {
          "output_type": "display_data",
          "data": {
            "text/plain": [
              "<Figure size 1080x1080 with 2 Axes>"
            ],
            "image/png": "[encoded data removed]"
          },
          "metadata": {
            "needs_background": "light"
          }
        }
      ]
    },
    {
      "cell_type": "code",
      "source": [
        "# get predictions on the test set\n",
        "y_hat = model.predict(x_val)\n",
        "\n",
        "labels = ['Bacterial leaf blight', 'Brown spot','Leaf smut']"
      ],
      "metadata": {
        "colab": {
          "base_uri": "https://localhost:8080/"
        },
        "id": "QhapIizPdPAP",
        "outputId": "583edb08-8658-4a4e-a0fe-08f4cc200eef"
      },
      "execution_count": 17,
      "outputs": [
        {
          "output_type": "stream",
          "name": "stdout",
          "text": [
            "1/1 [==============================] - 0s 181ms/step\n"
          ]
        }
      ]
    },
    {
      "cell_type": "code",
      "source": [
        "X_new = x_val\n",
        "y_new = y_val\n",
        "y_proba = model.predict(X_new)\n",
        "y_proba\n",
        "y_proba.round(2)"
      ],
      "metadata": {
        "colab": {
          "base_uri": "https://localhost:8080/"
        },
        "id": "Nd2ycpxNdZ3I",
        "outputId": "934afcf2-00de-46b9-aff3-16856d299f17"
      },
      "execution_count": 18,
      "outputs": [
        {
          "output_type": "stream",
          "name": "stdout",
          "text": [
            "1/1 [==============================] - 0s 144ms/step\n"
          ]
        },
        {
          "output_type": "execute_result",
          "data": {
            "text/plain": [
              "array([[0.87, 0.07, 0.06],\n",
              "       [0.99, 0.01, 0.  ],\n",
              "       [0.14, 0.45, 0.4 ],\n",
              "       [0.26, 0.41, 0.33],\n",
              "       [0.02, 0.18, 0.8 ]], dtype=float32)"
            ]
          },
          "metadata": {},
          "execution_count": 18
        }
      ]
    },
    {
      "cell_type": "code",
      "source": [
        "y_pred = np.argmax(y_proba, axis=-1)\n",
        "y_pred, y_new"
      ],
      "metadata": {
        "colab": {
          "base_uri": "https://localhost:8080/"
        },
        "id": "gagxg4bwdfsm",
        "outputId": "f9b4f6f2-8c01-4bf4-844c-aa87d777b22d"
      },
      "execution_count": 19,
      "outputs": [
        {
          "output_type": "execute_result",
          "data": {
            "text/plain": [
              "(array([0, 0, 1, 1, 2]), array([[1., 0., 0.],\n",
              "        [1., 0., 0.],\n",
              "        [0., 1., 0.],\n",
              "        [0., 1., 0.],\n",
              "        [0., 0., 1.]], dtype=float32))"
            ]
          },
          "metadata": {},
          "execution_count": 19
        }
      ]
    },
    {
      "cell_type": "code",
      "source": [
        "import tensorflow as tf\n",
        "from tensorflow.keras.utils import img_to_array\n",
        "img = tf.keras.utils.load_img(\"/content/DSC_0339.jpg\", target_size=(224,224,3)\n",
        ")\n",
        "img_array = img_to_array(img)\n",
        "img_array = tf.expand_dims(img_array, 0)  # Create batch axis\n",
        "\n",
        "predictions = model.predict(img_array)\n",
        "score = predictions\n",
        "score1=np.argmax(score, axis=-1)\n",
        "score1"
      ],
      "metadata": {
        "id": "AlJMZQ_kdjRk"
      },
      "execution_count": null,
      "outputs": []
    },
    {
      "cell_type": "code",
      "source": [
        "score = model.evaluate(x_val, y_val, verbose=0)\n",
        "accuracy = 100*score[1]\n",
        "\n",
        "# print test accuracy\n",
        "print('Test accuracy: %.4f%%' % accuracy)"
      ],
      "metadata": {
        "colab": {
          "base_uri": "https://localhost:8080/"
        },
        "id": "8LtmV9gxk_af",
        "outputId": "c9683e9f-4943-4c96-bfa9-d9607f21d3a8"
      },
      "execution_count": 20,
      "outputs": [
        {
          "output_type": "stream",
          "name": "stdout",
          "text": [
            "Test accuracy: 100.0000%\n"
          ]
        }
      ]
    },
    {
      "cell_type": "code",
      "source": [
        "predictions = model.predict(x_val)\n",
        "predictions[1]"
      ],
      "metadata": {
        "colab": {
          "base_uri": "https://localhost:8080/"
        },
        "id": "T9Z4hEKRxOfm",
        "outputId": "26a64e6d-8346-4ad4-a696-66a9d37926d6"
      },
      "execution_count": 21,
      "outputs": [
        {
          "output_type": "stream",
          "name": "stdout",
          "text": [
            "1/1 [==============================] - 0s 97ms/step\n"
          ]
        },
        {
          "output_type": "execute_result",
          "data": {
            "text/plain": [
              "array([0.98948085, 0.0093588 , 0.00116037], dtype=float32)"
            ]
          },
          "metadata": {},
          "execution_count": 21
        }
      ]
    },
    {
      "cell_type": "code",
      "source": [
        "y_predict = np.argmax(predictions,axis=1)\n",
        "y_true = np.argmax(y_val,axis=1)\n",
        "print(classification_report(y_true,y_predict))"
      ],
      "metadata": {
        "colab": {
          "base_uri": "https://localhost:8080/"
        },
        "id": "Li_kz6QhxZR9",
        "outputId": "c699c03d-195c-4a0c-cae5-b60216d0ff6c"
      },
      "execution_count": 22,
      "outputs": [
        {
          "output_type": "stream",
          "name": "stdout",
          "text": [
            "              precision    recall  f1-score   support\n",
            "\n",
            "           0       1.00      1.00      1.00         2\n",
            "           1       1.00      1.00      1.00         2\n",
            "           2       1.00      1.00      1.00         1\n",
            "\n",
            "    accuracy                           1.00         5\n",
            "   macro avg       1.00      1.00      1.00         5\n",
            "weighted avg       1.00      1.00      1.00         5\n",
            "\n"
          ]
        }
      ]
    },
    {
      "cell_type": "code",
      "source": [
        "y_hat = model.predict(x_val)\n",
        "Rice_labels= ['Leaf Smut','Bacterial Leaf Blight','Brown Spot']"
      ],
      "metadata": {
        "id": "iR3jyaqBnuIN"
      },
      "execution_count": null,
      "outputs": []
    },
    {
      "cell_type": "code",
      "source": [
        "\n",
        "fig = plt.figure(figsize=(20, 8))\n",
        "for i, idx in enumerate(np.random.choice(x_val.shape[0], size=32)):\n",
        "    ax = fig.add_subplot(20, 5, i + 1, xticks=[], yticks=[])\n",
        "    ax.imshow(x_val[idx])\n",
        "    pred_idx = np.argmax(y_hat[idx])\n",
        "    true_idx = np.argmax(y_val[idx])\n",
        "    ax.set_title(\"{} ({})\".format(Rice_labels[pred_idx], Rice_labels[true_idx]),\n",
        "                 color=(\"blue\" if pred_idx == true_idx else \"red\"))"
      ],
      "metadata": {
        "id": "Ku1pNEL_nx3_"
      },
      "execution_count": null,
      "outputs": []
    }
  ]
}